{
 "cells": [
  {
   "cell_type": "markdown",
   "id": "db1d6439-c600-4238-aa7d-9a22ecb99eca",
   "metadata": {
    "pycharm": {
     "name": "#%% md\n"
    }
   },
   "source": [
    "# Day 1"
   ]
  },
  {
   "cell_type": "code",
   "execution_count": 35,
   "id": "57ad5991-68ba-4e38-a047-ef208ae6ac40",
   "metadata": {
    "pycharm": {
     "name": "#%%\n"
    }
   },
   "outputs": [
    {
     "name": "stdout",
     "output_type": "stream",
     "text": [
      "195292\n"
     ]
    }
   ],
   "source": [
    "with open(\"input/day_01.txt\", \"r\") as input_file:\n",
    "    lines = input_file.readlines()\n",
    "\n",
    "dict_out = {}    \n",
    "\n",
    "i = 1\n",
    "\n",
    "for line in lines:\n",
    "    if line != \"\\n\":\n",
    "        if dict_out.get(i) is None:\n",
    "            dict_out[i] = []\n",
    "        dict_out[i].append(int(line.strip(\"\\n\")))\n",
    "    else:\n",
    "        i = i + 1\n",
    "        \n",
    "sum_dict = {j: sum(cals) for j, cals in dict_out.items()}\n",
    "\n",
    "top_3 = {\n",
    "    1: 0,\n",
    "    2: 0,\n",
    "    3: 0\n",
    "}\n",
    "\n",
    "for k, v in sum_dict.items():\n",
    "    for i in range(1, 4):\n",
    "        if v > top_3[i]:\n",
    "            top_3[i] = v\n",
    "            break\n",
    "            \n",
    "print(sum(top_3.values()))\n",
    "\n",
    "    "
   ]
  },
  {
   "cell_type": "markdown",
   "id": "92f13314-7438-4be4-a858-bb9499eb14d9",
   "metadata": {
    "pycharm": {
     "name": "#%% md\n"
    }
   },
   "source": [
    "# Day 2"
   ]
  },
  {
   "cell_type": "code",
   "execution_count": 34,
   "id": "4912861e-7240-4d6c-99b9-bc9a1aa471df",
   "metadata": {
    "pycharm": {
     "name": "#%%\n"
    }
   },
   "outputs": [
    {
     "name": "stdout",
     "output_type": "stream",
     "text": [
      "15\n",
      "13526\n",
      "12\n",
      "14204\n"
     ]
    }
   ],
   "source": [
    "from typing import List\n",
    "\n",
    "your_rps_map = {\n",
    "    \"X\": \"rock\",\n",
    "    \"Y\": \"paper\",\n",
    "    \"Z\": \"scissor\",\n",
    "}\n",
    "\n",
    "opponents_rps_map = {\n",
    "    \"A\": \"rock\",\n",
    "    \"B\": \"paper\",\n",
    "    \"C\": \"scissor\",\n",
    "}\n",
    "\n",
    "point_map_sign = {\n",
    "    \"rock\": 1,\n",
    "    \"paper\": 2,\n",
    "    \"scissor\": 3,\n",
    "}\n",
    "\n",
    "point_map_result = {\n",
    "    \"WIN\": 6,\n",
    "    \"DRAW\": 3,\n",
    "    \"LOSS\": 0,\n",
    "}\n",
    "\n",
    "decrypted_map = {\n",
    "    \"X\": \"LOSS\",\n",
    "    \"Y\": \"DRAW\",\n",
    "    \"Z\": \"WIN\",\n",
    "}\n",
    "\n",
    "def win(opponent_sign):\n",
    "    if opponent_sign == \"A\":\n",
    "        return \"Y\"\n",
    "    elif opponent_sign == \"B\":\n",
    "        return \"Z\"\n",
    "    return \"X\"\n",
    "\n",
    "def loose(opponent_sign):\n",
    "    if opponent_sign == \"A\":\n",
    "        return \"Z\"\n",
    "    elif opponent_sign == \"B\":\n",
    "        return \"X\"\n",
    "    return \"Y\"\n",
    "\n",
    "def draw(opponent_sign):\n",
    "    if opponent_sign == \"A\":\n",
    "        return \"X\"\n",
    "    elif opponent_sign == \"B\":\n",
    "        return \"Y\"\n",
    "    return \"Z\"\n",
    "\n",
    "\n",
    "result_func_map = {\n",
    "    \"X\": loose,\n",
    "    \"Y\": draw,\n",
    "    \"Z\": win,\n",
    "}\n",
    "\n",
    "\n",
    "def get_decrypted_round_point(opponent_sign, outcome):\n",
    "    result_point = point_map_result[decrypted_map[outcome]]\n",
    "\n",
    "    your_sign = result_func_map[outcome](opponent_sign)\n",
    "    sign_point = point_map_sign[your_rps_map[your_sign]]\n",
    "\n",
    "    return sign_point + result_point\n",
    "\n",
    "\n",
    "def result_match(opponent_sign, your_sign):\n",
    "    win_map = {\n",
    "        \"A\": \"Y\",\n",
    "        \"B\": \"Z\",\n",
    "        \"C\": \"X\",\n",
    "    }\n",
    "    \n",
    "    draw_map = {\n",
    "        \"A\": \"X\",\n",
    "        \"B\": \"Y\",\n",
    "        \"C\": \"Z\",\n",
    "    }\n",
    "    \n",
    "    if your_sign == win_map[opponent_sign]:\n",
    "        return \"WIN\"\n",
    "    elif your_sign == draw_map[opponent_sign]:\n",
    "        return \"DRAW\"\n",
    "    return \"LOSS\"\n",
    "\n",
    "\n",
    "def get_round_point(opponent_sign, your_sign):\n",
    "    result = result_match(opponent_sign, your_sign)\n",
    "\n",
    "    sign_point = point_map_sign[your_rps_map[your_sign]]\n",
    "    result_point = point_map_result[result]\n",
    "    \n",
    "    return sign_point + result_point\n",
    "\n",
    "\n",
    "def get_total_points(gameplan: List[List]):\n",
    "    sum_points = 0\n",
    "    \n",
    "    for play in gameplan:\n",
    "        sum_points = sum_points + get_round_point(play[0], play[1])\n",
    "    \n",
    "    return sum_points\n",
    "\n",
    "\n",
    "def get_decrypted_total_points(gameplan: List[List]):\n",
    "    sum_points = 0\n",
    "    \n",
    "    for play in gameplan:\n",
    "        sum_points = sum_points + get_decrypted_round_point(play[0], play[1])\n",
    "    \n",
    "    return sum_points\n",
    "\n",
    "\n",
    "test_plan = [\n",
    "    [\"A\", \"Y\"],\n",
    "    [\"B\", \"X\"],\n",
    "    [\"C\", \"Z\"],\n",
    "]\n",
    "\n",
    "print(get_total_points(test_plan))\n",
    "\n",
    "\n",
    "with open(\"input/day_02.txt\", \"r\") as f:\n",
    "    lines = f.readlines()\n",
    "    \n",
    "\n",
    "parsed_input = [line.split() for line in lines]\n",
    "\n",
    "print(get_total_points(parsed_input))\n",
    "\n",
    "print(get_decrypted_total_points(test_plan))\n",
    "print(get_decrypted_total_points(parsed_input))\n"
   ]
  },
  {
   "cell_type": "markdown",
   "source": [
    "# Day 3\n",
    "## Task 1"
   ],
   "metadata": {
    "collapsed": false,
    "pycharm": {
     "name": "#%% md\n"
    }
   }
  },
  {
   "cell_type": "code",
   "execution_count": 32,
   "outputs": [
    {
     "name": "stdout",
     "output_type": "stream",
     "text": [
      "8018\n"
     ]
    }
   ],
   "source": [
    "import string\n",
    "\n",
    "\n",
    "priorities = {c: i+1 for i, c in enumerate(string.ascii_letters)}\n",
    "\n",
    "with open(\"input/day_03.txt\", \"r\") as f:\n",
    "    lines = f.readlines()\n",
    "\n",
    "total = 0\n",
    "\n",
    "for i, line in enumerate(lines):\n",
    "    first_comp, second_comp = line[:len(line)//2], line[len(line)//2:]\n",
    "    for c in first_comp:\n",
    "        if c in second_comp:\n",
    "            total = total + priorities[c]\n",
    "            break\n",
    "\n",
    "print(total)\n"
   ],
   "metadata": {
    "collapsed": false,
    "pycharm": {
     "name": "#%%\n"
    }
   }
  },
  {
   "cell_type": "markdown",
   "source": [
    "## Task 2"
   ],
   "metadata": {
    "collapsed": false,
    "pycharm": {
     "name": "#%% md\n"
    }
   }
  },
  {
   "cell_type": "code",
   "execution_count": 33,
   "outputs": [
    {
     "name": "stdout",
     "output_type": "stream",
     "text": [
      "2518\n"
     ]
    }
   ],
   "source": [
    "groups = {i: [l.replace(\"\\n\", \"\") for l in lines[line:line+3]] for i, line in enumerate(range(0, len(lines), 3))}\n",
    "\n",
    "total = 0\n",
    "\n",
    "for group, data in groups.items():\n",
    "    for c in data[0]:\n",
    "        if c in data[1] and c in data[2]:\n",
    "            total = total + priorities[c]\n",
    "            break\n",
    "\n",
    "print(total)"
   ],
   "metadata": {
    "collapsed": false,
    "pycharm": {
     "name": "#%%\n"
    }
   }
  },
  {
   "cell_type": "markdown",
   "source": [
    "# Day 4\n",
    "## Task 1"
   ],
   "metadata": {
    "collapsed": false,
    "pycharm": {
     "name": "#%% md\n"
    }
   }
  },
  {
   "cell_type": "code",
   "execution_count": null,
   "outputs": [],
   "source": [],
   "metadata": {
    "collapsed": false,
    "pycharm": {
     "name": "#%%\n"
    }
   }
  }
 ],
 "metadata": {
  "kernelspec": {
   "display_name": "Python 3 (ipykernel)",
   "language": "python",
   "name": "python3"
  },
  "language_info": {
   "codemirror_mode": {
    "name": "ipython",
    "version": 3
   },
   "file_extension": ".py",
   "mimetype": "text/x-python",
   "name": "python",
   "nbconvert_exporter": "python",
   "pygments_lexer": "ipython3",
   "version": "3.9.15"
  }
 },
 "nbformat": 4,
 "nbformat_minor": 5
}